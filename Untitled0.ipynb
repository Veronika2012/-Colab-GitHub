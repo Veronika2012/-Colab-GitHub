{
  "nbformat": 4,
  "nbformat_minor": 0,
  "metadata": {
    "colab": {
      "name": "Untitled0.ipynb",
      "provenance": [],
      "authorship_tag": "ABX9TyOJr5/tk2+rorJ2WX2KqflU",
      "include_colab_link": true
    },
    "kernelspec": {
      "name": "python3",
      "display_name": "Python 3"
    }
  },
  "cells": [
    {
      "cell_type": "markdown",
      "metadata": {
        "id": "view-in-github",
        "colab_type": "text"
      },
      "source": [
        "<a href=\"https://colab.research.google.com/github/Veronika2012/-Colab-GitHub/blob/main/Untitled0.ipynb\" target=\"_parent\"><img src=\"https://colab.research.google.com/assets/colab-badge.svg\" alt=\"Open In Colab\"/></a>"
      ]
    },
    {
      "cell_type": "markdown",
      "metadata": {
        "id": "Zp6YPjm4_rDB"
      },
      "source": [
        "Мухлисулина Вероника Руслановна КИ19-20Б"
      ]
    },
    {
      "cell_type": "code",
      "metadata": {
        "colab": {
          "base_uri": "https://localhost:8080/"
        },
        "id": "VpgJW5O5_0AY",
        "outputId": "17613867-8746-4cf1-c00a-fdaf85af2e2f"
      },
      "source": [
        "print (\"Привет,мир!\")"
      ],
      "execution_count": null,
      "outputs": [
        {
          "output_type": "stream",
          "text": [
            "Привет,мир!\n"
          ],
          "name": "stdout"
        }
      ]
    }
  ]
}